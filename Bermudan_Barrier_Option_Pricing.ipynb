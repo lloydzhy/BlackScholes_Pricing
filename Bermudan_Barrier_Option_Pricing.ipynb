{
 "cells": [
  {
   "cell_type": "code",
   "execution_count": 1,
   "metadata": {},
   "outputs": [],
   "source": [
    "import numpy as np\n",
    "from scipy.sparse import diags\n",
    "\n",
    "import matplotlib.pyplot as plt\n",
    "%matplotlib inline"
   ]
  },
  {
   "cell_type": "code",
   "execution_count": 2,
   "metadata": {},
   "outputs": [],
   "source": [
    "def bermuda(F, S, K, T, v, R, d):\n",
    "    mu = (R-d-0.5*v*v)\n",
    "    # range x in [-x_max, x_max]\n",
    "    x_max = v*np.sqrt(T)*5  # 5 stdev away            \n",
    "    N = 500 \n",
    "    dx = 2*x_max/N\n",
    "\n",
    "    # grid along x dimension:\n",
    "    X = np.linspace(-x_max,x_max,N+1)\n",
    "    n = np.arange(0,N+1)\n",
    "    # option payoff \n",
    "    if F == 'c':\n",
    "        # Option payoff at maturity\n",
    "        V = np.clip(S*np.exp(X)-K,0,1e10)\n",
    "    elif F == 'p':\n",
    "        # Option payoff at maturity\n",
    "        V = np.clip(K-S*np.exp(X),0,1e10)\n",
    "    cut = int(N/4)\n",
    "\n",
    "    #number of time steps\n",
    "    J = 480  # exercise every month, each month is divided into 40 steps\n",
    "    # time step size\n",
    "    dt = T/J\n",
    "    # grid along time dimension:\n",
    "    Tau = np.arange(J)*dt\n",
    "    # set up the matrix\n",
    "    alpha = dt*v*v/(4*dx*dx)\n",
    "    beta = dt*mu/(4*dx)\n",
    "    lamda = dt*R/2\n",
    "    D = (1+lamda+2*alpha)*np.eye(N+1) - (alpha+beta)*np.eye(N+1,k=1) + (beta - alpha)*np.eye(N+1,k=-1)\n",
    "    Dinv = np.linalg.inv(D)\n",
    "    P = (1-lamda-2*alpha)*np.eye(N+1)+(alpha+beta)*np.eye(N+1,k=1)+(alpha-beta)*np.eye(N+1,k=-1)\n",
    "\n",
    "    V0 = V.copy()\n",
    "    for j in range(J): # every 40 steps, the grid coincide with an exercisable month\n",
    "        if j==J-1: # the month before expiration\n",
    "            Vtemp = V\n",
    "        temp = P.dot(V)\n",
    "        V = Dinv.dot(temp)\n",
    "        # apply early/monthly exercise condition: \n",
    "        if J%40 == 0:\n",
    "            V = np.where(V>V0, V, V0)\n",
    "        #V[0] = 0\n",
    "        # appy boundary condition at expiration\n",
    "        V[N] = S*x_max*np.exp(-d*1) - K*np.exp(-R*1) # maturity at expiration is 1 year\n",
    "        if j%50==0: plt.plot(S*np.exp(X[cut:-cut]), V[cut:-cut])\n",
    "\n",
    "    #mid grid point:\n",
    "    n_mid = int(N/2)\n",
    "    price = V[n_mid]\n",
    "    delta = (V[n_mid+1]-V[n_mid-1])/(S*np.exp(dx)-S*np.exp(-dx))\n",
    "    gamma = ((V[n_mid+1]-V[n_mid])/(S*(np.exp(dx)-1))-(V[n_mid]-V[n_mid-1])/(S*(1-np.exp(-dx))))/(S*np.exp(dx)-S*np.exp(-dx))*2\n",
    "    theta = -(V[n_mid]-Vtemp[n_mid])/(dt)\n",
    "\n",
    "    return price,delta,gamma,theta"
   ]
  },
  {
   "cell_type": "code",
   "execution_count": 3,
   "metadata": {},
   "outputs": [
    {
     "data": {
      "text/plain": [
       "(15.907957568719132,\n",
       " 0.5776879187306582,\n",
       " 0.009628924147424885,\n",
       " -7.743170029509372)"
      ]
     },
     "execution_count": 3,
     "metadata": {},
     "output_type": "execute_result"
    },
    {
     "data": {
      "image/png": "[encoded data removed]",
      "text/plain": [
       "<Figure size 432x288 with 1 Axes>"
      ]
     },
     "metadata": {},
     "output_type": "display_data"
    }
   ],
   "source": [
    "bermuda('c', 100, 100, 1, 0.4, 0.025, 0.0175)"
   ]
  },
  {
   "cell_type": "code",
   "execution_count": 112,
   "metadata": {},
   "outputs": [],
   "source": [
    "def barrier(F, S, K, T, v, R, d, Type, H_up, H_down):\n",
    "    mu = (R-d-0.5*v*v)\n",
    "    # range x in [-x_max, x_max]\n",
    "    x_max = v*np.sqrt(T)*5  # 5 stdev away               \n",
    "    N = 500 \n",
    "    dx = 2*x_max/N\n",
    "\n",
    "    # grid along x dimension:\n",
    "    X = np.linspace(-x_max,x_max,N+1)\n",
    "    n = np.arange(0,N+1)\n",
    "    # option payoff \n",
    "    V = np.empty(1)\n",
    "\n",
    "\n",
    "    cut = int(N/4)\n",
    "\n",
    "    #number of time steps\n",
    "    J = 500  \n",
    "    # time step size\n",
    "    dt = T/J\n",
    "    # grid along time dimension:\n",
    "    Tau = np.arange(J)*dt  \n",
    "\n",
    "    # set up the matrix\n",
    "    alpha = dt*v*v/(4*dx*dx)\n",
    "    beta = dt*mu/(4*dx)\n",
    "    lamda = dt*R/2\n",
    "    D = (1+lamda+2*alpha)*np.eye(N+1) - (alpha+beta)*np.eye(N+1,k=1) + (beta - alpha)*np.eye(N+1,k=-1)\n",
    "    Dinv = np.linalg.inv(D)\n",
    "    P = (1-lamda-2*alpha)*np.eye(N+1)+(alpha+beta)*np.eye(N+1,k=1)+(alpha-beta)*np.eye(N+1,k=-1)\n",
    "    \n",
    "    if Type == 'Single':\n",
    "        # Option payoff at maturity\n",
    "        if F == 'c':\n",
    "            V = np.where(np.logical_and(S*np.exp(X)>K,S*np.exp(X)<H_up),S*np.exp(X)-K,0)\n",
    "        elif F == 'p':\n",
    "            V = np.where(np.logical_and(S*np.exp(X)<K,S*np.exp(X)<H_up),K-S*np.exp(X),0)\n",
    "        \n",
    "        for j in range(J):\n",
    "            if j==J-1:\n",
    "                Vtemp = V\n",
    "            temp = P.dot(V)\n",
    "            V = Dinv.dot(temp)\n",
    "            V[0] = 0\n",
    "#             h_idx = int(N/2)+(H_up-S)+1\n",
    "#             V[h_idx:]=0\n",
    "            V[N] = S*np.exp(x_max-d*j*dt) - K*np.exp(-R*j*dt)\n",
    "            V = np.where(S*np.exp(X)<H_up,V,0)\n",
    "            if j%50==0: plt.plot(S*np.exp(X[cut:-cut]), V[cut:-cut])\n",
    "   \n",
    "    elif Type == 'Double':\n",
    "         # Option payoff at maturity\n",
    "        if F == 'c':\n",
    "            V = np.where(np.logical_and(S*np.exp(X)<K,np.logical_and(S*np.exp(X)<H_up,S*np.exp(X)>H_down)),S*np.exp(X)-K,0)\n",
    "        elif F == 'p':\n",
    "            V = np.where(np.logical_and(S*np.exp(X)<K,np.logical_and(S*np.exp(X)<H_up,S*np.exp(X)>H_down)),K-S*np.exp(X),0)\n",
    "        for j in range(J):\n",
    "            if j==J-1:\n",
    "                Vtemp = V\n",
    "            temp = P.dot(V)\n",
    "            V = Dinv.dot(temp)\n",
    "            V[0] = 0\n",
    "#             h_idx = int(N/2)+(H_up-S)+1\n",
    "#             V[h_idx:]=0\n",
    "#             h_idx = int(N/2)-(S-H_down)+1\n",
    "#             V[:h_idx]=0\n",
    "            V = np.where(np.logical_and(S*np.exp(X)<H_up,S*np.exp(X)>H_down),V,0)\n",
    "            plt.subplot(211)\n",
    "            if j%50==0: \n",
    "                plt.plot(S*np.exp(X[cut:-cut]), V[cut:-cut])\n",
    "        cut=int(N/4)\n",
    "        V_temp = V[cut:-cut]\n",
    "        X_temp = X[cut:-cut]\n",
    "        gamma_2 = (V_temp[2:]-2*V_temp[1:-1]+V_temp[:-2])/(dx*dx*S*np.exp(X_temp[1:-1])*S*np.exp(X_temp[1:-1]))-(V_temp[2:]-V_temp[:-2])/2/(dx*S*np.exp(X_temp[1:-1])*S*np.exp(X_temp[1:-1]))\n",
    "        plt.subplot(212)\n",
    "        plt.plot(S*np.exp(X_temp[1:-1]),gamma_2)\n",
    "        \n",
    "    \n",
    "    #mid grid point:\n",
    "    n_mid = int(N/2)\n",
    "    price = V[n_mid]\n",
    "    delta = (V[n_mid+1]-V[n_mid-1])/(S*np.exp(dx)-S*np.exp(-dx))       \n",
    "    gamma = ((V[n_mid+1]-V[n_mid])/(S*(np.exp(dx)-1))-(V[n_mid]-V[n_mid-1])/(S*(1-np.exp(-dx))))/(S*np.exp(dx)-S*np.exp(-dx))*2\n",
    "    theta = -(V[n_mid]-Vtemp[n_mid])/(dt)\n",
    "\n",
    "\n",
    "    return price,delta,gamma,theta"
   ]
  },
  {
   "cell_type": "code",
   "execution_count": 113,
   "metadata": {},
   "outputs": [
    {
     "data": {
      "text/plain": [
       "(0.019700612775934125,\n",
       " -0.0007513354339898518,\n",
       " -2.2307712924963064e-05,\n",
       " 0.029009835692985278)"
      ]
     },
     "execution_count": 113,
     "metadata": {},
     "output_type": "execute_result"
    },
    {
     "data": {
      "image/png": "[encoded data removed]",
      "text/plain": [
       "<Figure size 432x288 with 1 Axes>"
      ]
     },
     "metadata": {},
     "output_type": "display_data"
    }
   ],
   "source": [
    "barrier('c', 100, 110, 1, 0.5, 0.025, 0.0175,'Single', 120, 120)"
   ]
  },
  {
   "cell_type": "code",
   "execution_count": 114,
   "metadata": {},
   "outputs": [
    {
     "data": {
      "text/plain": [
       "(9.84385805651797,\n",
       " -0.471437961103253,\n",
       " 0.002827657126227743,\n",
       " -2.9393563148589763)"
      ]
     },
     "execution_count": 114,
     "metadata": {},
     "output_type": "execute_result"
    },
    {
     "data": {
      "image/png": "[encoded data removed]",
      "text/plain": [
       "<Figure size 432x288 with 1 Axes>"
      ]
     },
     "metadata": {},
     "output_type": "display_data"
    }
   ],
   "source": [
    "barrier('p', 100, 90, 1, 0.5, 0.025, 0.0175, 'Single', 120, 120)"
   ]
  },
  {
   "cell_type": "code",
   "execution_count": 115,
   "metadata": {},
   "outputs": [
    {
     "name": "stderr",
     "output_type": "stream",
     "text": [
      "/Users/lloydzhang/anaconda3/lib/python3.6/site-packages/matplotlib/cbook/deprecation.py:107: MatplotlibDeprecationWarning: Adding an axes using the same arguments as a previous axes currently reuses the earlier instance.  In a future version, a new instance will always be created and returned.  Meanwhile, this warning can be suppressed, and the future behavior ensured, by passing a unique label to each axes instance.\n",
      "  warnings.warn(message, mplDeprecation, stacklevel=1)\n"
     ]
    },
    {
     "data": {
      "text/plain": [
       "(0.0015305921693250703,\n",
       " -8.931118655838e-06,\n",
       " -8.028632310866352e-06,\n",
       " 0.010147671269369581)"
      ]
     },
     "execution_count": 115,
     "metadata": {},
     "output_type": "execute_result"
    },
    {
     "data": {
      "image/png": "[encoded data removed]",
      "text/plain": [
       "<Figure size 432x288 with 2 Axes>"
      ]
     },
     "metadata": {},
     "output_type": "display_data"
    }
   ],
   "source": [
    "barrier('p', 100, 90, 1, 0.5, 0.025, 0.0175, 'Double', 120, 80)"
   ]
  },
  {
   "cell_type": "code",
   "execution_count": null,
   "metadata": {},
   "outputs": [],
   "source": []
  }
 ],
 "metadata": {
  "kernelspec": {
   "display_name": "Python 3",
   "language": "python",
   "name": "python3"
  },
  "language_info": {
   "codemirror_mode": {
    "name": "ipython",
    "version": 3
   },
   "file_extension": ".py",
   "mimetype": "text/x-python",
   "name": "python",
   "nbconvert_exporter": "python",
   "pygments_lexer": "ipython3",
   "version": "3.6.5"
  }
 },
 "nbformat": 4,
 "nbformat_minor": 2
}
