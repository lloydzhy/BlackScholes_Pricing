{
 "cells": [
  {
   "cell_type": "code",
   "execution_count": 2,
   "metadata": {},
   "outputs": [
    {
     "name": "stdout",
     "output_type": "stream",
     "text": [
      "CallFlag = c \n",
      " Spot = 40 \n",
      " Strike = 35 \n",
      " Maturity = 1 \n",
      " Volatility = 0.5 \n",
      " RiskFreeRate = 0.04 \n",
      " Dividend Yield = 0.06\n",
      "Option Price =  6.877717095221037\n",
      "Implied Volatility Biset =  2.6666666666666665\n",
      "Implied Volatility NR =  0.499496160052575\n"
     ]
    }
   ],
   "source": [
    "from scipy.stats import norm\n",
    "from math import *\n",
    "\n",
    "class EquityOption:\n",
    "    def __init__(self, F='c',S=40, K=35, T=1, V=0.5, R=0.04, D=0.06):\n",
    "        self.F = F\n",
    "        self.S = S\n",
    "        self.K = K \n",
    "        self.T = T\n",
    "        self.V = V\n",
    "        self.R = R\n",
    "        self.D = D\n",
    "        \n",
    "#     def __str__(self, F, S, K, T, V, R, D):\n",
    "#         return ('CallFlag = %s \\n Spot = %s \\n Strike = %s \\n Maturity = %s \\n Volatility = %s \\n RiskFreeRate = %s \\n Dividend Yield = %s' %(F, S, K, T, V, R, D))\n",
    "    \n",
    "#     def __imul__(self,stock_split):\n",
    "#         self.S = self.S/stock_split\n",
    "#         self.K = self.K/stock_split\n",
    "        \n",
    "    def BlackScholes(self, F, S, K, T, V, R, D):\n",
    "        d1 = (log(float(self.S)/self.K)+((self.R-self.D)+self.V*self.V/2.)*self.T)/(self.V*sqrt(self.T))\n",
    "        d2 = d1-self.V*sqrt(self.T)\n",
    "        if F == 'c':\n",
    "            optionprice = self.S*exp(-self.D*self.T)*norm.cdf(d1)-self.S*exp(-self.R*self.T)*norm.cdf(d2)\n",
    "        else:\n",
    "            optionprice = self.K*exp(-self.R*self.T)*norm.cdf(-d2)-self.S*exp(-self.D*self.T)*norm.cdf(-d1)\n",
    "        return optionprice\n",
    "    \n",
    "    def Greeks(self, F, S, K, T, V, R, D):\n",
    "        d1 = (log(float(self.S)/self.K)+((self.R-self.D)+self.V*self.V/2.)*self.T)/(self.V*sqrt(self.T))\n",
    "        d2 = d1-self.V*sqrt(self.T)\n",
    "        T_sqrt = sqrt(self.T)\n",
    "        if F == 'c':\n",
    "            Delta = norm.cdf(d1)\n",
    "            Gamma = norm.pdf(d1)/(self.S*self.V*T_sqrt)\n",
    "            Theta = - (self.S*self.V*norm.pdf(d1))/(2*T_sqrt) - self.R*self.K*exp(-self.R*self.T)*norm.cdf(d2)\n",
    "            Vega = self.S * T_sqrt*norm.pdf(d1)\n",
    "        else:\n",
    "            Delta = -norm.cdf(-d1)\n",
    "            Gamma = norm.pdf(d1)/(self.S*self.V*T_sqrt)\n",
    "            Theta = -(self.S*self.V*norm.pdf(d1)) / (2*T_sqrt)+ self.R*self.K * exp(-self.R*self.T) * norm.cdf(-d2)\n",
    "            Vega = self.S * T_sqrt * norm.pdf(d1)    \n",
    "        return Delta, Gamma, Theta, Vega     \n",
    "    \n",
    "    #input random value to test (direct number not calculation from BS)\n",
    "    @staticmethod\n",
    "    def biset_iv(value, prec, F, S, K, T, R, D):\n",
    "        begin=0\n",
    "        end=5\n",
    "        V=(begin+end)/2\n",
    "        E=EquityOption(F, S, K, T, V, R, D)\n",
    "        d1,d2 = E.__d1_d2__(S, K, T, V, R, D)\n",
    "        value_new = E.BlackScholes(d1, d2, F, S, K, T, V, R, D) \n",
    "        for i in range(100):\n",
    "            if value_new - value>0:\n",
    "                V = (begin+V)/2\n",
    "                d1,d2 = E.__d1_d2__(S, K, T, V, R, D)\n",
    "                value_new = E.BlackScholes(d1, d2, F, S, K, T, V, R, D)\n",
    "            else:\n",
    "                V =(V+end)/2\n",
    "                d1,d2 = E.__d1_d2__(S, K, T, V, R, D)\n",
    "                value_new = E.BlackScholes(d1,d2, F, S, K, T, V, R, D)\n",
    "            if (abs(value_new - value)<prec):\n",
    "                return V\n",
    "        return V\n",
    "    \n",
    "#     @staticmethod\n",
    "#     def __d1_d2__(S, K, T, V, R, D):\n",
    "#         d1 = (log(float(S)/K)+((R-D)+V*V/2.)*T)/(V*sqrt(T))\n",
    "#         d2 = d1-V*sqrt(T)\n",
    "#         return d1,d2\n",
    "    \n",
    " \n",
    "    #input random value to test (direct number not calculation from BS)\n",
    "    @staticmethod\n",
    "    def newton_iv(value, F, S, K, T, R, D):\n",
    "        T_sqrt = sqrt(T)\n",
    "        prec = 0.0001\n",
    "        V=0.5\n",
    "        for i in range(100):\n",
    "            E=EquityOption(F, S, K, T, V, R, D)\n",
    "            d1,d2 = E.__d1_d2__(S, K, T, V, R, D)\n",
    "            price= E.BlackScholes(d1,d2, F, S, K, T, V, R, D)\n",
    "            if F == 'c':\n",
    "                Vega = S * T_sqrt*norm.pdf(d1)\n",
    "            else:\n",
    "                Vega = S * T_sqrt * norm.pdf(d1)\n",
    "            diff=value-price\n",
    "            if (abs(diff)<prec):\n",
    "                return V\n",
    "            V=V+diff/Vega \n",
    "        return V\n",
    "    \n",
    "\n",
    "\n",
    "kwargs = dict(F='c',S=40, K=35, T=1, V=0.5, R=0.04, D=0.06)  \n",
    "E1= EquityOption(**kwargs)\n",
    "kwargs1 = dict(S=40, K=35, T=1, V=0.5, R=0.04, D=0.06) \n",
    "d1,d2 = E1.__d1_d2__(**kwargs1)\n",
    "Delta, Gamma, Theta, Vega = E1.Greeks(d1,d2,**kwargs)\n",
    "print(E1.__str__(**kwargs))\n",
    "price = E1.BlackScholes(d1,d2,**kwargs)\n",
    "print(\"Option Price = \", price)\n",
    "kwargs2 = dict(F='c',S=40, K=35, T=1, R=0.04, D=0.06) \n",
    "prec = 0.00001\n",
    "IV_BISET = E1.biset_iv(6.87, prec, **kwargs2)\n",
    "print(\"Implied Volatility Biset = \", IV_BISET)\n",
    "IV_NEWTON = E1.newton_iv(6.87, **kwargs2)\n",
    "print(\"Implied Volatility NR = \", IV_NEWTON)\n",
    "\n",
    "\n"
   ]
  },
  {
   "cell_type": "code",
   "execution_count": 5,
   "metadata": {},
   "outputs": [
    {
     "name": "stdout",
     "output_type": "stream",
     "text": [
      "Option Price =  14.031620480133384\n"
     ]
    }
   ],
   "source": [
    "kwargs = dict(F='c',S=100, K=100, T=0.5, V=0.5, R=0, D=0)  \n",
    "E1= EquityOption(**kwargs)\n",
    "kwargs1 = dict(S=100, K=100, T=0.5, V=0.5, R=0, D=0) \n",
    "d1,d2 = E1.__d1_d2__(**kwargs1)\n",
    "price = E1.BlackScholes(d1,d2,**kwargs)\n",
    "print(\"Option Price = \", price)"
   ]
  },
  {
   "cell_type": "code",
   "execution_count": 6,
   "metadata": {},
   "outputs": [
    {
     "name": "stdout",
     "output_type": "stream",
     "text": [
      "Option Price =  14.031620480133384\n"
     ]
    }
   ],
   "source": [
    "kwargs = dict(F='p',S=100, K=100, T=0.5, V=0.5, R=0, D=0)  \n",
    "E1= EquityOption(**kwargs)\n",
    "kwargs1 = dict(S=100, K=100, T=0.5, V=0.5, R=0, D=0) \n",
    "d1,d2 = E1.__d1_d2__(**kwargs1)\n",
    "price = E1.BlackScholes(d1,d2,**kwargs)\n",
    "print(\"Option Price = \", price)"
   ]
  },
  {
   "cell_type": "code",
   "execution_count": null,
   "metadata": {},
   "outputs": [],
   "source": []
  },
  {
   "cell_type": "code",
   "execution_count": null,
   "metadata": {},
   "outputs": [],
   "source": []
  }
 ],
 "metadata": {
  "kernelspec": {
   "display_name": "Python 3",
   "language": "python",
   "name": "python3"
  },
  "language_info": {
   "codemirror_mode": {
    "name": "ipython",
    "version": 3
   },
   "file_extension": ".py",
   "mimetype": "text/x-python",
   "name": "python",
   "nbconvert_exporter": "python",
   "pygments_lexer": "ipython3",
   "version": "3.6.5"
  }
 },
 "nbformat": 4,
 "nbformat_minor": 2
}
